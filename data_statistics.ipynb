{
 "cells": [
  {
   "cell_type": "markdown",
   "metadata": {},
   "source": [
    "## Calculate `MEAN` and `STD` for WebFace and VGGFace2 Datasets"
   ]
  },
  {
   "cell_type": "code",
   "execution_count": 1,
   "metadata": {},
   "outputs": [],
   "source": [
    "from tqdm import tqdm\n",
    "\n",
    "import torch\n",
    "from torchvision import datasets, transforms\n",
    "from torch.utils.data import DataLoader\n",
    "\n",
    "transform = transforms.Compose([\n",
    "    transforms.ToTensor()  # Converts image to [C, H, W] with values in [0, 1]\n",
    "])\n",
    "\n",
    "def calculate_statistics(dataset_path, batch_size=256):\n",
    "    dataset = datasets.ImageFolder(dataset_path, transform=transform)\n",
    "    data_loader = DataLoader(dataset, batch_size=batch_size, shuffle=False)\n",
    "\n",
    "    mean = 0.0\n",
    "    std = 0.0\n",
    "    num_samples = 0\n",
    "\n",
    "    for images, _ in tqdm(data_loader):\n",
    "        batch_samples = images.size(0)  # Batch size\n",
    "        images = images.view(batch_samples, images.size(1), -1)  # Flatten HxW\n",
    "        mean += images.mean(2).sum(0)  # Mean across (H, W) for each channel\n",
    "        std += images.std(2).sum(0)  # Std across (H, W) for each channel\n",
    "        num_samples += batch_samples\n",
    "\n",
    "    mean /= num_samples\n",
    "    std /= num_samples\n",
    "\n",
    "    print(\"Mean:\", mean)\n",
    "    print(\"Standard Deviation:\", std)"
   ]
  },
  {
   "cell_type": "markdown",
   "metadata": {},
   "source": [
    "### `mean` and `std` for WebFace dataset"
   ]
  },
  {
   "cell_type": "code",
   "execution_count": 2,
   "metadata": {},
   "outputs": [
    {
     "name": "stderr",
     "output_type": "stream",
     "text": [
      "100%|██████████| 959/959 [05:51<00:00,  2.73it/s]"
     ]
    },
    {
     "name": "stdout",
     "output_type": "stream",
     "text": [
      "Mean: tensor([0.5203, 0.4045, 0.3465])\n",
      "Standard Deviation: tensor([0.2417, 0.2076, 0.1948])\n"
     ]
    },
    {
     "name": "stderr",
     "output_type": "stream",
     "text": [
      "\n"
     ]
    }
   ],
   "source": [
    "webface = \"data/train/webface_112x112\"\n",
    "calculate_statistics(webface, batch_size=512)"
   ]
  },
  {
   "cell_type": "markdown",
   "metadata": {},
   "source": [
    "### `mean` and `std` for VggFace2 dataset"
   ]
  },
  {
   "cell_type": "code",
   "execution_count": 3,
   "metadata": {},
   "outputs": [
    {
     "name": "stderr",
     "output_type": "stream",
     "text": [
      "100%|██████████| 6129/6129 [54:21<00:00,  1.88it/s]  \n"
     ]
    },
    {
     "name": "stdout",
     "output_type": "stream",
     "text": [
      "Mean: tensor([0.5334, 0.4158, 0.3601])\n",
      "Standard Deviation: tensor([0.2467, 0.2135, 0.2010])\n"
     ]
    }
   ],
   "source": [
    "vggface = \"data/train/vggface2_train_112x112\"\n",
    "calculate_statistics(vggface, batch_size=512)"
   ]
  }
 ],
 "metadata": {
  "kernelspec": {
   "display_name": "torch",
   "language": "python",
   "name": "python3"
  },
  "language_info": {
   "codemirror_mode": {
    "name": "ipython",
    "version": 3
   },
   "file_extension": ".py",
   "mimetype": "text/x-python",
   "name": "python",
   "nbconvert_exporter": "python",
   "pygments_lexer": "ipython3",
   "version": "3.10.14"
  }
 },
 "nbformat": 4,
 "nbformat_minor": 2
}
